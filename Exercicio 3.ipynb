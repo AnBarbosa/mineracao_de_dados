{
 "cells": [
  {
   "cell_type": "markdown",
   "metadata": {},
   "source": [
    "# 3.1 Exercício\n",
    "\n",
    "Considere a base de dados [Spambase](https://archive.ics.uci.edu/ml/datasets/Spambase). \n",
    "\n",
    "Desenvolva o código para fazer stacking na base de dados Spambase. Para auxiliar a construção do stack de modelos você pode usar a função cross_val_predict de sklearn.model_selection, que retorna as predições de cada objeto quando usado como teste na validação cruzada. Separa 10% de objetos para a avaliação do modelo meta, use a função train_test_split.\n",
    "\n"
   ]
  },
  {
   "cell_type": "code",
   "execution_count": 13,
   "metadata": {
    "collapsed": true
   },
   "outputs": [],
   "source": [
    "import pandas as pd\n",
    "import numpy as np\n",
    "\n",
    "from sklearn.ensemble import AdaBoostClassifier\n",
    "from sklearn.ensemble import BaggingClassifier\n",
    "from sklearn.tree import DecisionTreeClassifier\n",
    "\n",
    "from sklearn.ensemble import VotingClassifier\n",
    "\n",
    "from sklearn.model_selection import cross_val_score\n",
    "from sklearn.model_selection import cross_val_predict\n",
    "from sklearn.model_selection import train_test_split\n",
    "\n",
    "\n",
    "from sklearn.model_selection import StratifiedKFold"
   ]
  },
  {
   "cell_type": "code",
   "execution_count": 14,
   "metadata": {},
   "outputs": [],
   "source": [
    "dados = pd.read_csv(\"spambase.data\", header=None)\n",
    "X, y = dados.drop(57, axis=1), dados[57]"
   ]
  },
  {
   "cell_type": "code",
   "execution_count": 10,
   "metadata": {},
   "outputs": [
    {
     "name": "stdout",
     "output_type": "stream",
     "text": [
      "Arvore:  [0.89526293 0.86304348]\n",
      "Bagging:  [0.91134289 0.89      ]\n",
      "AdaBoost:  [0.93872229 0.90217391]\n",
      "ensemble [0.92655367 0.89782609]\n"
     ]
    }
   ],
   "source": [
    "\n",
    "\n",
    "dec_tree = DecisionTreeClassifier()\n",
    "bag_tree = BaggingClassifier(DecisionTreeClassifier())\n",
    "adab = AdaBoostClassifier()\n",
    "\n",
    "print('Arvore: ', cross_val_score(dec_tree, X, y, cv = 2))\n",
    "print('Bagging: ', cross_val_score(bag_tree, X, y, cv = 2))\n",
    "print('AdaBoost: ', cross_val_score(adab, X, y, cv = 2))\n",
    "\n",
    "\n",
    "\n",
    "eclf = VotingClassifier(estimators = [('dt', dec_tree), ('bag', bag_tree), ('adaboost', adab)], voting = 'hard')\n",
    "print('ensemble', cross_val_score(eclf, X, y, cv = 2))"
   ]
  },
  {
   "cell_type": "code",
   "execution_count": 36,
   "metadata": {},
   "outputs": [],
   "source": [
    "x_train, x_test, y_train, y_test = train_test_split(X,y, test_size=0.1, random_state = 1)\n",
    "\n",
    "division = StratifiedKFold(n_splits = 5, random_state = 1)"
   ]
  },
  {
   "cell_type": "code",
   "execution_count": 50,
   "metadata": {},
   "outputs": [],
   "source": [
    "dec_tree = DecisionTreeClassifier()\n",
    "bag_tree = BaggingClassifier(DecisionTreeClassifier())\n",
    "adab = AdaBoostClassifier()\n",
    "\n",
    "\n",
    "pred_tree = cross_val_predict(dec_tree, x_train, y_train, cv = division)\n",
    "pred_bat  = cross_val_predict(bag_tree, x_train, y_train, cv = division)\n",
    "pred_adab = cross_val_predict(adab,     x_train, y_train, cv = division)\n"
   ]
  },
  {
   "cell_type": "code",
   "execution_count": 64,
   "metadata": {},
   "outputs": [],
   "source": [
    "def voting(a, b, c):\n",
    "    ab_ac = np.logical_or(np.equal(a,b), np.equal(a,c))\n",
    "    return np.where(ab_ac, a, c)"
   ]
  },
  {
   "cell_type": "code",
   "execution_count": 70,
   "metadata": {},
   "outputs": [
    {
     "name": "stdout",
     "output_type": "stream",
     "text": [
      "VOTO  0.9434782608695652\n",
      "TREE  0.9130434782608695\n",
      "BAT  0.938647342995169\n",
      "ADA  0.9410628019323671\n"
     ]
    }
   ],
   "source": [
    "print(\"VOTO \", np.mean(voting(pred_tree, pred_bat, pred_adab)==y_train))\n",
    "print(\"TREE \", np.mean(pred_tree==y_train))\n",
    "print(\"BAT \", np.mean(pred_bat==y_train))\n",
    "print(\"ADA \", np.mean(pred_adab==y_train))"
   ]
  },
  {
   "cell_type": "code",
   "execution_count": null,
   "metadata": {
    "collapsed": true
   },
   "outputs": [],
   "source": []
  }
 ],
 "metadata": {
  "kernelspec": {
   "display_name": "Python 3",
   "language": "python",
   "name": "python3"
  },
  "language_info": {
   "codemirror_mode": {
    "name": "ipython",
    "version": 3
   },
   "file_extension": ".py",
   "mimetype": "text/x-python",
   "name": "python",
   "nbconvert_exporter": "python",
   "pygments_lexer": "ipython3",
   "version": "3.6.8"
  }
 },
 "nbformat": 4,
 "nbformat_minor": 2
}
