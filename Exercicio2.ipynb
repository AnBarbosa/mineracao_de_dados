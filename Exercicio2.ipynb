{
 "cells": [
  {
   "cell_type": "markdown",
   "metadata": {},
   "source": [
    "# Exercício\n",
    "\n",
    "Considere a base de dados [Spambase](https://archive.ics.uci.edu/ml/datasets/Spambase). Identifique, usando validação cruzada de 5 pastas, qual classificador apresenta melhores resultados:\n",
    "\n",
    "    Árvore de Decisão com max_depth= None ou 2\n",
    "    KNN com número de vizinhos 3 ou 5 e ponderação uniforme ou pela distância\n",
    "\n"
   ]
  },
  {
   "cell_type": "code",
   "execution_count": 41,
   "metadata": {},
   "outputs": [],
   "source": [
    "import os\n",
    "import pandas as pd\n",
    "import numpy as np\n",
    "\n",
    "from sklearn.model_selection import StratifiedKFold\n",
    "from sklearn.model_selection import GridSearchCV\n",
    "from sklearn.pipeline import Pipeline\n",
    "\n",
    "from sklearn.neighbors import KNeighborsClassifier\n",
    "from sklearn.tree import DecisionTreeClassifier\n"
   ]
  },
  {
   "cell_type": "code",
   "execution_count": 21,
   "metadata": {},
   "outputs": [],
   "source": [
    "dados = pd.read_csv(\"spambase.data\", header=None)"
   ]
  },
  {
   "cell_type": "code",
   "execution_count": 22,
   "metadata": {
    "collapsed": true
   },
   "outputs": [],
   "source": [
    "X, y = dados.drop(57, axis=1), dados[57]"
   ]
  },
  {
   "cell_type": "code",
   "execution_count": 23,
   "metadata": {
    "collapsed": true
   },
   "outputs": [],
   "source": [
    "# Algoritmos\n",
    "knn = KNeighborsClassifier()\n",
    "tree = DecisionTreeClassifier()"
   ]
  },
  {
   "cell_type": "code",
   "execution_count": 28,
   "metadata": {
    "collapsed": true
   },
   "outputs": [],
   "source": [
    "param_grid_tree = [{'max_depth': [None, 2]}]\n",
    "param_grid_knn = [{'n_neighbors': [3, 5], 'weights': ['uniform','distance']}]\n",
    "\n",
    "grid_search_knn = GridSearchCV(knn, param_grid_knn, cv = 5)\n",
    "grid_search_tree = GridSearchCV(tree, param_grid_tree, cv = 5)"
   ]
  },
  {
   "cell_type": "code",
   "execution_count": 29,
   "metadata": {},
   "outputs": [
    {
     "data": {
      "text/plain": [
       "GridSearchCV(cv=5, error_score='raise-deprecating',\n",
       "       estimator=DecisionTreeClassifier(class_weight=None, criterion='gini', max_depth=None,\n",
       "            max_features=None, max_leaf_nodes=None,\n",
       "            min_impurity_decrease=0.0, min_impurity_split=None,\n",
       "            min_samples_leaf=1, min_samples_split=2,\n",
       "            min_weight_fraction_leaf=0.0, presort=False, random_state=None,\n",
       "            splitter='best'),\n",
       "       fit_params=None, iid='warn', n_jobs=None,\n",
       "       param_grid=[{'max_depth': [None, 2]}], pre_dispatch='2*n_jobs',\n",
       "       refit=True, return_train_score='warn', scoring=None, verbose=0)"
      ]
     },
     "execution_count": 29,
     "metadata": {},
     "output_type": "execute_result"
    }
   ],
   "source": [
    "grid_search_knn.fit(X,y)\n",
    "grid_search_tree.fit(X,y)"
   ]
  },
  {
   "cell_type": "code",
   "execution_count": 30,
   "metadata": {
    "collapsed": true
   },
   "outputs": [],
   "source": [
    "means_knn = grid_search_knn.cv_results_['mean_test_score']\n",
    "stds_knn = grid_search_knn.cv_results_['std_test_score']\n",
    "\n",
    "means_tree = grid_search_tree.cv_results_['mean_test_score']\n",
    "stds_tree = grid_search_tree.cv_results_['std_test_score']"
   ]
  },
  {
   "cell_type": "code",
   "execution_count": 38,
   "metadata": {},
   "outputs": [
    {
     "name": "stdout",
     "output_type": "stream",
     "text": [
      "KNN:  0.782 +/- 0.042\n",
      "TREE: 0.862 +/- 0.058\n"
     ]
    }
   ],
   "source": [
    "print(f\"KNN:  {np.mean(means_knn):.3f} +/- {np.mean(stds_knn):.3f}\\n\"+\n",
    "      f\"TREE: {np.mean(means_tree):.3f} +/- {np.mean(stds_tree):.3f}\")"
   ]
  },
  {
   "cell_type": "markdown",
   "metadata": {},
   "source": [
    "## OUTRA SOLUCAO"
   ]
  },
  {
   "cell_type": "code",
   "execution_count": 45,
   "metadata": {},
   "outputs": [
    {
     "name": "stdout",
     "output_type": "stream",
     "text": [
      "DecisionTreeClassifier(class_weight=None, criterion='gini', max_depth=None,\n",
      "            max_features=None, max_leaf_nodes=None,\n",
      "            min_impurity_decrease=0.0, min_impurity_split=None,\n",
      "            min_samples_leaf=1, min_samples_split=2,\n",
      "            min_weight_fraction_leaf=0.0, presort=False, random_state=None,\n",
      "            splitter='best')\n",
      "0.8619865246685503\n",
      "0.058244162307406255\n",
      "--------------------\n",
      "KNeighborsClassifier(algorithm='auto', leaf_size=30, metric='minkowski',\n",
      "           metric_params=None, n_jobs=None, n_neighbors=5, p=2,\n",
      "           weights='distance')\n",
      "0.7815148880678113\n",
      "0.042245469237265076\n",
      "--------------------\n"
     ]
    }
   ],
   "source": [
    "\n",
    "param_grid= [{'max_depth': [None, 2]} ,  # Tree\n",
    "             {'n_neighbors': [3, 5], 'weights': ['uniform','distance']}] # KNN\n",
    "\n",
    "# Deve ser criado fora do loop, para sempre comparar a mesma coisa\n",
    "divisor = StratifiedKFold(n_splits = 5, random_state = 1) \n",
    "for clf, parameters in zip([tree, knn], param_grid):\n",
    "    grid_search = GridSearchCV(clf, parameters, cv = divisor)\n",
    "    grid_search.fit(X, y)\n",
    "    \n",
    "    \n",
    "    print( grid_search.best_estimator_)\n",
    "    print( np.mean(grid_search.cv_results_['mean_test_score']))\n",
    "    print( np.mean(grid_search.cv_results_['std_test_score']))\n",
    "    print(\"-\"*20)\n",
    "    "
   ]
  },
  {
   "cell_type": "raw",
   "metadata": {},
   "source": []
  }
 ],
 "metadata": {
  "kernelspec": {
   "display_name": "Python 3",
   "language": "python",
   "name": "python3"
  },
  "language_info": {
   "codemirror_mode": {
    "name": "ipython",
    "version": 3
   },
   "file_extension": ".py",
   "mimetype": "text/x-python",
   "name": "python",
   "nbconvert_exporter": "python",
   "pygments_lexer": "ipython3",
   "version": "3.6.8"
  }
 },
 "nbformat": 4,
 "nbformat_minor": 2
}
